{
 "cells": [
  {
   "cell_type": "code",
   "execution_count": 1,
   "id": "84e9acea-a16b-4471-9a07-09be7330aa74",
   "metadata": {},
   "outputs": [],
   "source": [
    "\n",
    "import numpy as np\n",
    "import pandas as pd\n",
    "from pymatgen.core.operations import SymmOp\n",
    "from pymatgen.ext.matproj import MPRester\n",
    "from jupyter_jsmol.pymatgen import quick_view\n",
    "from jupyter_jsmol import JsmolView\n",
    "from ipywidgets import Layout, widgets, interact\n",
    "from pymatgen.core import Lattice, Structure\n",
    "from pymatgen.symmetry.analyzer import SpacegroupAnalyzer\n",
    "from pymatgen.io.cif import CifWriter\n",
    "import tempfile"
   ]
  },
  {
   "cell_type": "code",
   "execution_count": 2,
   "id": "91f43db9-2d66-48e2-8bfd-2998dfd2555c",
   "metadata": {},
   "outputs": [],
   "source": [
    "mp_key = \"jkj1S0TLmQtlvQmGDoUQvq5XQzLfKlCF\"\n",
    "mp_id = \"mp-14437\""
   ]
  },
  {
   "cell_type": "code",
   "execution_count": 3,
   "id": "b30a21f2-0fba-4a69-bff5-136a0587ec1e",
   "metadata": {},
   "outputs": [
    {
     "data": {
      "application/vnd.jupyter.widget-view+json": {
       "model_id": "eaecf3f38d8943438660ba4b6e6ed283",
       "version_major": 2,
       "version_minor": 0
      },
      "text/plain": [
       "Retrieving MaterialsDoc documents:   0%|          | 0/1 [00:00<?, ?it/s]"
      ]
     },
     "metadata": {},
     "output_type": "display_data"
    }
   ],
   "source": [
    "#je reprend mes valeurs du dernier devoir\n",
    "with MPRester(mp_key) as m:\n",
    "    prim_struc = m.get_structure_by_material_id(mp_id)"
   ]
  },
  {
   "cell_type": "code",
   "execution_count": 4,
   "id": "b8284ee8",
   "metadata": {},
   "outputs": [
    {
     "name": "stdout",
     "output_type": "stream",
     "text": [
      "-x, -y, -z\n",
      "-y, -x, z\n",
      "x+2/3, y+1/3, z+1/3\n",
      "Rot:\n",
      "[[-1.  0.  0.]\n",
      " [ 0. -1.  0.]\n",
      " [ 0.  0. -1.]]\n",
      "tau\n",
      "[0. 0. 0.]\n",
      "Rot:\n",
      "[[ 0. -1.  0.]\n",
      " [-1.  0.  0.]\n",
      " [ 0.  0.  1.]]\n",
      "tau\n",
      "[0. 0. 0.]\n",
      "Rot:\n",
      "[[1. 0. 0.]\n",
      " [0. 1. 0.]\n",
      " [0. 0. 1.]]\n",
      "tau\n",
      "[0.66666667 0.33333333 0.33333333]\n"
     ]
    }
   ],
   "source": [
    "\n",
    "spaceAnalyzer = SpacegroupAnalyzer(prim_struc)\n",
    "data2 = spaceAnalyzer.get_conventional_standard_structure()\n",
    "symopc= SpacegroupAnalyzer(data2).get_symmetry_operations()\n",
    "inversion = symopc[1]\n",
    "rotation = symopc[7]\n",
    "translation = symopc[12]\n",
    "print(inversion.as_xyz_str())\n",
    "print(rotation.as_xyz_str())\n",
    "print(translation.as_xyz_str())\n",
    "print(inversion)\n",
    "print(rotation)\n",
    "print(translation)\n",
    "\n",
    "#\n"
   ]
  },
  {
   "cell_type": "code",
   "execution_count": 5,
   "id": "9a585721",
   "metadata": {},
   "outputs": [
    {
     "data": {
      "application/vnd.jupyter.widget-view+json": {
       "model_id": "9b5531833d7d467896f089473f96f758",
       "version_major": 2,
       "version_minor": 0
      },
      "text/plain": [
       "JsmolView(layout=Layout(align_self='stretch', height='400px'))"
      ]
     },
     "metadata": {},
     "output_type": "display_data"
    },
    {
     "name": "stdout",
     "output_type": "stream",
     "text": [
      "\n",
      " coordonnées de l'atome RB :\n",
      "[0. 0. 0.]\n",
      "\n",
      " coordonnées de l'atome Y  :\n",
      "[0.33333333 0.66666667 0.16666667]\n",
      "\n",
      " coordonnées de l'atome O  :\n",
      "[0.66666667 0.33333333 0.1080395 ]\n",
      "\n",
      " coordonnées de l'atome O2  :\n",
      "[0.66666667 0.33333333 0.55862716]\n"
     ]
    }
   ],
   "source": [
    "view = quick_view(data2,\"packed\", conventional=True)\n",
    "display(view)\n",
    "RB= data2.sites[0].frac_coords\n",
    "Y = data2.sites[3].frac_coords\n",
    "O = data2.sites[6].frac_coords\n",
    "O2= data2.sites[9].frac_coords\n",
    "print(\"\\n coordonnées de l'atome RB :\")\n",
    "print(RB)\n",
    "print(\"\\n coordonnées de l'atome Y  :\")\n",
    "print(Y)\n",
    "print(\"\\n coordonnées de l'atome O  :\")\n",
    "print(O)\n",
    "print(\"\\n coordonnées de l'atome O2  :\")\n",
    "print(O2)"
   ]
  },
  {
   "cell_type": "code",
   "execution_count": 13,
   "id": "33086e61",
   "metadata": {},
   "outputs": [
    {
     "name": "stdout",
     "output_type": "stream",
     "text": [
      "Je calcule les valeurs des positions après transformation\n",
      "\n",
      "[-0.66666667 -0.33333333 -0.55862716]\n",
      "\n",
      "\n",
      "[-0.66666667 -0.33333333  0.16666667]\n",
      "\n",
      "\n",
      "[0.66666667 0.33333333 0.33333333]\n"
     ]
    }
   ],
   "source": [
    "print(\"Je calcule les valeurs des positions après transformation\\n\")\n",
    "IOUT = inversion.operate_multi(O2)\n",
    "print(IOUT)\n",
    "print(\"\\n\")\n",
    "RTOUT= rotation.operate_multi(Y)\n",
    "print(RTOUT)\n",
    "print(\"\\n\")\n",
    "TOUT = translation.operate_multi(RB)\n",
    "print(TOUT)\n"
   ]
  },
  {
   "cell_type": "code",
   "execution_count": 8,
   "id": "fbbdec11",
   "metadata": {},
   "outputs": [
    {
     "data": {
      "application/vnd.jupyter.widget-view+json": {
       "model_id": "bb49e3f91f3d47b095e1cbb26166ac98",
       "version_major": 2,
       "version_minor": 0
      },
      "text/plain": [
       "JsmolView(layout=Layout(align_self='stretch', height='400px'))"
      ]
     },
     "metadata": {},
     "output_type": "display_data"
    }
   ],
   "source": [
    "view_invers = quick_view(data2)\n",
    "display(view_invers)\n",
    "view_invers.script(\"draw symop 2 {atomno=10}\") "
   ]
  },
  {
   "cell_type": "code",
   "execution_count": 9,
   "id": "4efd7538",
   "metadata": {},
   "outputs": [
    {
     "data": {
      "application/vnd.jupyter.widget-view+json": {
       "model_id": "9e66e93b62fd48e7a598b20c067aba97",
       "version_major": 2,
       "version_minor": 0
      },
      "text/plain": [
       "JsmolView(layout=Layout(align_self='stretch', height='400px'))"
      ]
     },
     "metadata": {},
     "output_type": "display_data"
    }
   ],
   "source": [
    "view_rotation = quick_view(data2)\n",
    "display(view_rotation)\n",
    "view_rotation.script(\"draw symop 8 {atomno=4}\") "
   ]
  },
  {
   "cell_type": "code",
   "execution_count": 10,
   "id": "8f0cfd60",
   "metadata": {},
   "outputs": [
    {
     "data": {
      "application/vnd.jupyter.widget-view+json": {
       "model_id": "57c5de5b095b42cabbf9a7575f39f14a",
       "version_major": 2,
       "version_minor": 0
      },
      "text/plain": [
       "JsmolView(layout=Layout(align_self='stretch', height='400px'))"
      ]
     },
     "metadata": {},
     "output_type": "display_data"
    }
   ],
   "source": [
    "view_translation = quick_view(data2)\n",
    "display(view_translation)\n",
    "view_translation.script(\"draw symop 13 {atomno=1}\") "
   ]
  }
 ],
 "metadata": {
  "kernelspec": {
   "display_name": "Python 3 (ipykernel)",
   "language": "python",
   "name": "python3"
  },
  "language_info": {
   "codemirror_mode": {
    "name": "ipython",
    "version": 3
   },
   "file_extension": ".py",
   "mimetype": "text/x-python",
   "name": "python",
   "nbconvert_exporter": "python",
   "pygments_lexer": "ipython3",
   "version": "3.9.13"
  }
 },
 "nbformat": 4,
 "nbformat_minor": 5
}
