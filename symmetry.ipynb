{
 "cells": [
  {
   "cell_type": "code",
   "execution_count": 1,
   "id": "84e9acea-a16b-4471-9a07-09be7330aa74",
   "metadata": {},
   "outputs": [],
   "source": [
    "\n",
    "import numpy as np\n",
    "import pandas as pd\n",
    "from pymatgen.core.operations import SymmOp\n",
    "from pymatgen.ext.matproj import MPRester\n",
    "from jupyter_jsmol.pymatgen import quick_view\n",
    "from jupyter_jsmol import JsmolView\n",
    "from ipywidgets import Layout, widgets, interact\n",
    "from pymatgen.core import Lattice, Structure\n",
    "from pymatgen.symmetry.analyzer import SpacegroupAnalyzer\n",
    "from pymatgen.io.cif import CifWriter\n",
    "import tempfile"
   ]
  },
  {
   "cell_type": "code",
   "execution_count": 2,
   "id": "91f43db9-2d66-48e2-8bfd-2998dfd2555c",
   "metadata": {},
   "outputs": [],
   "source": [
    "mp_key = \"jkj1S0TLmQtlvQmGDoUQvq5XQzLfKlCF\"\n",
    "mp_id = \"mp-14437\""
   ]
  },
  {
   "cell_type": "code",
   "execution_count": 3,
   "id": "b30a21f2-0fba-4a69-bff5-136a0587ec1e",
   "metadata": {},
   "outputs": [
    {
     "data": {
      "application/vnd.jupyter.widget-view+json": {
       "model_id": "64ff3aab38404aae8f550185054b5e81",
       "version_major": 2,
       "version_minor": 0
      },
      "text/plain": [
       "Retrieving MaterialsDoc documents:   0%|          | 0/1 [00:00<?, ?it/s]"
      ]
     },
     "metadata": {},
     "output_type": "display_data"
    }
   ],
   "source": [
    "#je reprend mes valeurs du dernier devoir\n",
    "with MPRester(mp_key) as m:\n",
    "    prim_struc = m.get_structure_by_material_id(mp_id)\n",
    "    "
   ]
  },
  {
   "cell_type": "code",
   "execution_count": 4,
   "id": "b8284ee8",
   "metadata": {},
   "outputs": [
    {
     "name": "stdout",
     "output_type": "stream",
     "text": [
      "-x, -y, -z\n",
      "-y, -x, z\n",
      "-x+2/3, -y+1/3, -z+1/3\n",
      "Rot:\n",
      "[[-1.  0.  0.]\n",
      " [ 0. -1.  0.]\n",
      " [ 0.  0. -1.]]\n",
      "tau\n",
      "[0. 0. 0.]\n",
      "Rot:\n",
      "[[ 0. -1.  0.]\n",
      " [-1.  0.  0.]\n",
      " [ 0.  0.  1.]]\n",
      "tau\n",
      "[0. 0. 0.]\n",
      "Rot:\n",
      "[[-1.  0.  0.]\n",
      " [ 0. -1.  0.]\n",
      " [ 0.  0. -1.]]\n",
      "tau\n",
      "[0.66666667 0.33333333 0.33333333]\n"
     ]
    }
   ],
   "source": [
    "\n",
    "spaceAnalyzer = SpacegroupAnalyzer(prim_struc)\n",
    "data = spaceAnalyzer.get_primitive_standard_structure()\n",
    "data2 = spaceAnalyzer.get_conventional_standard_structure()\n",
    "symopc= SpacegroupAnalyzer(data2).get_symmetry_operations()\n",
    "symopp = SpacegroupAnalyzer(data).get_symmetry_operations()\n",
    "\n",
    "inversion = symopc[1]\n",
    "rotoinversion = symopc[7]\n",
    "translation = symopc[13]\n",
    "print(inversion.as_xyz_str())\n",
    "print(rotation.as_xyz_str())\n",
    "print(translation.as_xyz_str())\n",
    "print(inversion)\n",
    "print(rotation)\n",
    "print(translation)\n",
    "\n",
    "#\n"
   ]
  },
  {
   "cell_type": "code",
   "execution_count": 5,
   "id": "9a585721",
   "metadata": {},
   "outputs": [
    {
     "data": {
      "application/vnd.jupyter.widget-view+json": {
       "model_id": "8d00a04837d14626b61a9b00090e7bbb",
       "version_major": 2,
       "version_minor": 0
      },
      "text/plain": [
       "JsmolView(layout=Layout(align_self='stretch', height='400px'))"
      ]
     },
     "metadata": {},
     "output_type": "display_data"
    },
    {
     "name": "stdout",
     "output_type": "stream",
     "text": [
      "[PeriodicSite: Rb (0.0, 0.0, 0.0) [0.0, 0.0, 0.0], PeriodicSite: Rb (1.741, -1.005, 6.509) [0.6667, 0.3333, 0.3333], PeriodicSite: Rb (1.741, 1.005, 13.02) [0.3333, 0.6667, 0.6667], PeriodicSite: Y (1.741, 1.005, 3.254) [0.3333, 0.6667, 0.1667], PeriodicSite: Y (3.481, -4.441e-16, 9.763) [1.0, 1.0, 0.5], PeriodicSite: Y (1.741, -1.005, 16.27) [0.6667, 0.3333, 0.8333], PeriodicSite: O (1.741, -1.005, 2.11) [0.6667, 0.3333, 0.108], PeriodicSite: O (0.0, 0.0, 4.399) [0.0, 0.0, 0.2253], PeriodicSite: O (1.741, 1.005, 8.619) [0.3333, 0.6667, 0.4414], PeriodicSite: O (1.741, -1.005, 10.91) [0.6667, 0.3333, 0.5586], PeriodicSite: O (0.0, 0.0, 15.13) [0.0, 0.0, 0.7747], PeriodicSite: O (1.741, 1.005, 17.42) [0.3333, 0.6667, 0.892]]\n",
      "\n",
      "\n",
      "\n",
      "[array([0., 0., 0.]), array([0.33333333, 0.66666667, 0.16666667]), array([0.66666667, 0.33333333, 0.1080395 ]), array([0.66666667, 0.33333333, 0.55862716])]\n"
     ]
    }
   ],
   "source": [
    "view = quick_view(data2,\"packed\", conventional=True)\n",
    "display(view)\n",
    "print(data2.sites)\n",
    "RB= data2.sites[0].frac_coords\n",
    "Y = data2.sites[3].frac_coords\n",
    "O = data2.sites[6].frac_coords\n",
    "O2= data2.sites[9].frac_coords\n",
    "list = [RB,Y,O,O2]\n",
    "print(\"\\n\\n\")\n",
    "print(list)"
   ]
  },
  {
   "cell_type": "code",
   "execution_count": 6,
   "id": "33086e61",
   "metadata": {},
   "outputs": [
    {
     "name": "stdout",
     "output_type": "stream",
     "text": [
      "[[ 0.          0.          0.        ]\n",
      " [-0.33333333 -0.66666667 -0.16666667]\n",
      " [-0.66666667 -0.33333333 -0.1080395 ]\n",
      " [-0.66666667 -0.33333333 -0.55862716]]\n",
      "\n",
      "\n",
      "[[ 0.          0.          0.        ]\n",
      " [-0.66666667 -0.33333333  0.16666667]\n",
      " [-0.33333333 -0.66666667  0.1080395 ]\n",
      " [-0.33333333 -0.66666667  0.55862716]]\n",
      "\n",
      "\n",
      "[[ 0.66666667  0.33333333  0.33333333]\n",
      " [ 0.33333333 -0.33333333  0.16666667]\n",
      " [ 0.          0.          0.22529383]\n",
      " [ 0.          0.         -0.22529383]]\n"
     ]
    }
   ],
   "source": [
    "\n",
    "IOUT = inversion.operate_multi(list)\n",
    "print(IOUT)\n",
    "print(\"\\n\")\n",
    "RTOUT= rotation.operate_multi(list)\n",
    "print(RTOUT)\n",
    "print(\"\\n\")\n",
    "TOUT = translation.operate_multi(list)\n",
    "print(TOUT)\n"
   ]
  },
  {
   "cell_type": "code",
   "execution_count": null,
   "id": "d8c9193f",
   "metadata": {},
   "outputs": [],
   "source": []
  },
  {
   "cell_type": "code",
   "execution_count": 7,
   "id": "fbbdec11",
   "metadata": {},
   "outputs": [
    {
     "data": {
      "application/vnd.jupyter.widget-view+json": {
       "model_id": "7347a0b0d6364c74a673d8d8d90ea81b",
       "version_major": 2,
       "version_minor": 0
      },
      "text/plain": [
       "JsmolView(layout=Layout(align_self='stretch', height='400px'))"
      ]
     },
     "metadata": {},
     "output_type": "display_data"
    }
   ],
   "source": [
    "structure= data2.copy()\n",
    "\n",
    "for site, new_coords in zip(structure.sites, IOUT):\n",
    "    site.frac_coords = new_coords\n",
    "\n",
    "script_inversion = f\"\"\"\n",
    "draw sym1 [{list[1]}] color red;\n",
    "draw sym2 [{IOUT[1]}] color blue;\n",
    "\"\"\"\n",
    "view_inversion = quick_view(structure, \"packed\", conventional=True)\n",
    "view_inversion.script(script_inversion)\n",
    "display(view_inversion)"
   ]
  },
  {
   "cell_type": "code",
   "execution_count": 8,
   "id": "02cd324c",
   "metadata": {},
   "outputs": [
    {
     "data": {
      "application/vnd.jupyter.widget-view+json": {
       "model_id": "84e02e226f404df28e19e56cac432344",
       "version_major": 2,
       "version_minor": 0
      },
      "text/plain": [
       "JsmolView(layout=Layout(align_self='stretch', height='400px'))"
      ]
     },
     "metadata": {},
     "output_type": "display_data"
    }
   ],
   "source": [
    "structure= data2.copy()\n",
    "for site, new_coords in zip(structure.sites, TOUT):\n",
    "    site.frac_coords = new_coords\n",
    "\n",
    "script_translation = f\"\"\"\n",
    "draw sym1 [{list[0]}] color red;\n",
    "draw sym2 [{TOUT[0]}] color blue;\n",
    "\"\"\"\n",
    "view_translation = quick_view(structure, \"packed\", conventional=True)\n",
    "view_translation.script(script_translation)\n",
    "display(view_translation)"
   ]
  },
  {
   "cell_type": "code",
   "execution_count": 9,
   "id": "be4a0b8d",
   "metadata": {},
   "outputs": [
    {
     "data": {
      "application/vnd.jupyter.widget-view+json": {
       "model_id": "0c38f48681904dd7ad51f730949fe27e",
       "version_major": 2,
       "version_minor": 0
      },
      "text/plain": [
       "JsmolView(layout=Layout(align_self='stretch', height='400px'))"
      ]
     },
     "metadata": {},
     "output_type": "display_data"
    }
   ],
   "source": [
    "structure= data2.copy()\n",
    "for site, new_coords in zip(structure.sites, RTOUT):\n",
    "    site.frac_coords = new_coords\n",
    "\n",
    "\n",
    "script_rotation = f\"\"\"\n",
    "draw sym1 [{list[2]}] color red;\n",
    "draw sym2 [{RTOUT[2]}] color blue;\n",
    "\"\"\"\n",
    "view_rotation= quick_view(structure, \"packed\", conventional=True)\n",
    "view_rotoinversion.script(script_rotation)\n",
    "display(view_rotation)"
   ]
  },
  {
   "cell_type": "code",
   "execution_count": null,
   "id": "a06fd17d",
   "metadata": {},
   "outputs": [],
   "source": []
  }
 ],
 "metadata": {
  "kernelspec": {
   "display_name": "Python 3 (ipykernel)",
   "language": "python",
   "name": "python3"
  },
  "language_info": {
   "codemirror_mode": {
    "name": "ipython",
    "version": 3
   },
   "file_extension": ".py",
   "mimetype": "text/x-python",
   "name": "python",
   "nbconvert_exporter": "python",
   "pygments_lexer": "ipython3",
   "version": "3.9.13"
  }
 },
 "nbformat": 4,
 "nbformat_minor": 5
}
